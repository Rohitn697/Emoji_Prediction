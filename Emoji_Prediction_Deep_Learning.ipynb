{
  "nbformat": 4,
  "nbformat_minor": 0,
  "metadata": {
    "colab": {
      "provenance": [],
      "collapsed_sections": [
        "zKVZesOZMvX3"
      ]
    },
    "kernelspec": {
      "name": "python3",
      "display_name": "Python 3"
    },
    "accelerator": "GPU"
  },
  "cells": [
    {
      "cell_type": "markdown",
      "metadata": {
        "id": "qXUUu1qHQ0Ar"
      },
      "source": [
        "\n",
        "## Importing all the Libraries\n"
      ]
    },
    {
      "cell_type": "code",
      "metadata": {
        "id": "AEx2_m5JPDh2"
      },
      "source": [
        "import numpy as np\n",
        "import pandas as pd\n",
        "import matplotlib.pyplot as plt\n",
        "import seaborn as sns\n",
        "from nltk.corpus import stopwords\n",
        "from imblearn.over_sampling import SMOTE\n",
        "import re"
      ],
      "execution_count": null,
      "outputs": []
    },
    {
      "cell_type": "markdown",
      "metadata": {
        "id": "8j9KZz1QSF3L"
      },
      "source": [
        "## Importing data using Pandas\n"
      ]
    },
    {
      "cell_type": "code",
      "metadata": {
        "id": "7XYcehY_SNzV"
      },
      "source": [
        "df = pd.read_csv('/content/drive/MyDrive/Colab Notebooks/data/Train.csv')\n",
        "df = df.drop(columns=['Unnamed: 0'], )"
      ],
      "execution_count": null,
      "outputs": []
    },
    {
      "cell_type": "code",
      "metadata": {
        "id": "pMY-SfSTSeju",
        "colab": {
          "base_uri": "https://localhost:8080/",
          "height": 195
        },
        "outputId": "062a2f43-73e5-431d-c811-2343bc878525"
      },
      "source": [
        "df.head()"
      ],
      "execution_count": null,
      "outputs": [
        {
          "output_type": "execute_result",
          "data": {
            "text/html": [
              "<div>\n",
              "<style scoped>\n",
              "    .dataframe tbody tr th:only-of-type {\n",
              "        vertical-align: middle;\n",
              "    }\n",
              "\n",
              "    .dataframe tbody tr th {\n",
              "        vertical-align: top;\n",
              "    }\n",
              "\n",
              "    .dataframe thead th {\n",
              "        text-align: right;\n",
              "    }\n",
              "</style>\n",
              "<table border=\"1\" class=\"dataframe\">\n",
              "  <thead>\n",
              "    <tr style=\"text-align: right;\">\n",
              "      <th></th>\n",
              "      <th>TEXT</th>\n",
              "      <th>Label</th>\n",
              "    </tr>\n",
              "  </thead>\n",
              "  <tbody>\n",
              "    <tr>\n",
              "      <th>0</th>\n",
              "      <td>Vacation wasted ! #vacation2017 #photobomb #ti...</td>\n",
              "      <td>0</td>\n",
              "    </tr>\n",
              "    <tr>\n",
              "      <th>1</th>\n",
              "      <td>Oh Wynwood, you’re so funny! : @user #Wynwood ...</td>\n",
              "      <td>1</td>\n",
              "    </tr>\n",
              "    <tr>\n",
              "      <th>2</th>\n",
              "      <td>Been friends since 7th grade. Look at us now w...</td>\n",
              "      <td>2</td>\n",
              "    </tr>\n",
              "    <tr>\n",
              "      <th>3</th>\n",
              "      <td>This is what it looks like when someone loves ...</td>\n",
              "      <td>3</td>\n",
              "    </tr>\n",
              "    <tr>\n",
              "      <th>4</th>\n",
              "      <td>RT @user this white family was invited to a Bl...</td>\n",
              "      <td>3</td>\n",
              "    </tr>\n",
              "  </tbody>\n",
              "</table>\n",
              "</div>"
            ],
            "text/plain": [
              "                                                TEXT  Label\n",
              "0  Vacation wasted ! #vacation2017 #photobomb #ti...      0\n",
              "1  Oh Wynwood, you’re so funny! : @user #Wynwood ...      1\n",
              "2  Been friends since 7th grade. Look at us now w...      2\n",
              "3  This is what it looks like when someone loves ...      3\n",
              "4  RT @user this white family was invited to a Bl...      3"
            ]
          },
          "metadata": {
            "tags": []
          },
          "execution_count": 3
        }
      ]
    },
    {
      "cell_type": "markdown",
      "metadata": {
        "id": "3K8VCo86RAMb"
      },
      "source": [
        "## Pre-Processing using NLTK and re. \n",
        "\n",
        "* Stopword removal using NLTK                                     \n",
        "* Tokenisation using re\n",
        "* Removing words starting with # and @"
      ]
    },
    {
      "cell_type": "code",
      "metadata": {
        "id": "M1RkhAAAcipk",
        "colab": {
          "base_uri": "https://localhost:8080/"
        },
        "outputId": "fbd10076-9ba4-4029-ad95-4f0fff80daad"
      },
      "source": [
        "import nltk\n",
        "nltk.download('stopwords')"
      ],
      "execution_count": null,
      "outputs": [
        {
          "output_type": "stream",
          "text": [
            "[nltk_data] Downloading package stopwords to /root/nltk_data...\n",
            "[nltk_data]   Unzipping corpora/stopwords.zip.\n"
          ],
          "name": "stdout"
        },
        {
          "output_type": "execute_result",
          "data": {
            "text/plain": [
              "True"
            ]
          },
          "metadata": {
            "tags": []
          },
          "execution_count": 4
        }
      ]
    },
    {
      "cell_type": "code",
      "metadata": {
        "id": "JSDEGZFvR2vQ"
      },
      "source": [
        "corpus = list()\n",
        "sw = set(stopwords.words('english'))\n",
        "\n",
        "for i in range(70000):\n",
        "    text = df['TEXT'][i]\n",
        "    text = text.lower()\n",
        "    text = re.findall('[a-z#@]+', text)\n",
        "    text = [word for word in text if word[0] != '@' and word[0] != '#' and word not in sw]\n",
        "    text = ' '.join(text)\n",
        "    corpus.append(text)"
      ],
      "execution_count": null,
      "outputs": []
    },
    {
      "cell_type": "markdown",
      "metadata": {
        "id": "FzAN4ZcQTH_x"
      },
      "source": [
        "### Making a dataframe using the pandas library\n"
      ]
    },
    {
      "cell_type": "code",
      "metadata": {
        "id": "b-EViTRIS4bS"
      },
      "source": [
        "refined_df = pd.DataFrame(corpus)\n",
        "refined_df = refined_df.join(df['Label'])\n",
        "refined_df.columns = ['text', 'emoji_label']\n",
        "refined_df = refined_df[refined_df['text'].map(len) > 0]"
      ],
      "execution_count": null,
      "outputs": []
    },
    {
      "cell_type": "code",
      "metadata": {
        "id": "5bWmC94hTR-K",
        "colab": {
          "base_uri": "https://localhost:8080/",
          "height": 195
        },
        "outputId": "53594ac6-ba31-4f68-9119-1c27dcfd3319"
      },
      "source": [
        "refined_df.head()"
      ],
      "execution_count": null,
      "outputs": [
        {
          "output_type": "execute_result",
          "data": {
            "text/html": [
              "<div>\n",
              "<style scoped>\n",
              "    .dataframe tbody tr th:only-of-type {\n",
              "        vertical-align: middle;\n",
              "    }\n",
              "\n",
              "    .dataframe tbody tr th {\n",
              "        vertical-align: top;\n",
              "    }\n",
              "\n",
              "    .dataframe thead th {\n",
              "        text-align: right;\n",
              "    }\n",
              "</style>\n",
              "<table border=\"1\" class=\"dataframe\">\n",
              "  <thead>\n",
              "    <tr style=\"text-align: right;\">\n",
              "      <th></th>\n",
              "      <th>text</th>\n",
              "      <th>emoji_label</th>\n",
              "    </tr>\n",
              "  </thead>\n",
              "  <tbody>\n",
              "    <tr>\n",
              "      <th>0</th>\n",
              "      <td>vacation wasted port</td>\n",
              "      <td>0</td>\n",
              "    </tr>\n",
              "    <tr>\n",
              "      <th>1</th>\n",
              "      <td>oh wynwood funny wynwood</td>\n",
              "      <td>1</td>\n",
              "    </tr>\n",
              "    <tr>\n",
              "      <th>2</th>\n",
              "      <td>friends since th grade look us following dream...</td>\n",
              "      <td>2</td>\n",
              "    </tr>\n",
              "    <tr>\n",
              "      <th>3</th>\n",
              "      <td>looks like someone loves unconditionally oh pu...</td>\n",
              "      <td>3</td>\n",
              "    </tr>\n",
              "    <tr>\n",
              "      <th>4</th>\n",
              "      <td>rt white family invited black barbecue never l...</td>\n",
              "      <td>3</td>\n",
              "    </tr>\n",
              "  </tbody>\n",
              "</table>\n",
              "</div>"
            ],
            "text/plain": [
              "                                                text  emoji_label\n",
              "0                               vacation wasted port            0\n",
              "1                           oh wynwood funny wynwood            1\n",
              "2  friends since th grade look us following dream...            2\n",
              "3  looks like someone loves unconditionally oh pu...            3\n",
              "4  rt white family invited black barbecue never l...            3"
            ]
          },
          "metadata": {
            "tags": []
          },
          "execution_count": 7
        }
      ]
    },
    {
      "cell_type": "markdown",
      "metadata": {
        "id": "eXBAE1PnTX0Q"
      },
      "source": [
        "## Exploratory Data Analysis using matplotlib and seaborn\n",
        "\n",
        "* using numpy to make a frequency table for every emoji\n",
        "* making a bar plot using seaborn\n"
      ]
    },
    {
      "cell_type": "code",
      "metadata": {
        "id": "mGhVjVQVTiu6"
      },
      "source": [
        "label_array = np.array(refined_df['emoji_label'])\n",
        "(emojis, counts) = np.unique(label_array, return_counts=True)"
      ],
      "execution_count": null,
      "outputs": []
    },
    {
      "cell_type": "code",
      "metadata": {
        "id": "PoO_nM2tUE8T",
        "colab": {
          "base_uri": "https://localhost:8080/"
        },
        "outputId": "a72e3877-8478-49dc-fd4e-5495cab76eee"
      },
      "source": [
        "print(emojis)\n",
        "print(counts)"
      ],
      "execution_count": null,
      "outputs": [
        {
          "output_type": "stream",
          "text": [
            "[ 0  1  2  3  4  5  6  7  8  9 10 11 12 13 14 15 16 17 18 19]\n",
            "[ 1555  2591  7069  6829  1876  1975  2080  4357  1990 15047  1719  2429\n",
            "  1907  3245  2339  3843  2823  2748  1720  1738]\n"
          ],
          "name": "stdout"
        }
      ]
    },
    {
      "cell_type": "code",
      "metadata": {
        "id": "6ZGZEQWAURjC",
        "colab": {
          "base_uri": "https://localhost:8080/",
          "height": 295
        },
        "outputId": "cebf05eb-c4f7-4352-b2fe-27fcd7892ec9"
      },
      "source": [
        "plt.style.use('dark_background')\n",
        "sns.barplot(x = emojis, y = counts)\n",
        "plt.xlabel(xlabel='Emoji Labels')\n",
        "plt.ylabel(ylabel='Emoji Count')\n",
        "plt.title('Frequency of Each Emoji Data')\n",
        "plt.show()"
      ],
      "execution_count": null,
      "outputs": [
        {
          "output_type": "display_data",
          "data": {
            "image/png": "[encoded data removed]",
            "text/plain": [
              "<Figure size 432x288 with 1 Axes>"
            ]
          },
          "metadata": {
            "tags": []
          }
        }
      ]
    },
    {
      "cell_type": "markdown",
      "metadata": {
        "id": "bumG_5TaUcc2"
      },
      "source": [
        "> We can obseve that the distribution is not good so we will oversample the data at a later phase\n"
      ]
    },
    {
      "cell_type": "markdown",
      "metadata": {
        "id": "A42k8givUpWt"
      },
      "source": [
        "# Transfer Learning and Over-Sampling"
      ]
    },
    {
      "cell_type": "markdown",
      "metadata": {
        "id": "MMCn7GVPVEVG"
      },
      "source": [
        "## Importing glove which is comprised of 6 Billion words with 50 dimentions"
      ]
    },
    {
      "cell_type": "code",
      "metadata": {
        "id": "AxSWN_3-bBjj"
      },
      "source": [
        "f = open(\"/content/drive/MyDrive/Colab Notebooks/data/glove.6B.50d.txt\", encoding='utf8')\n",
        "\n",
        "embedding_index = dict()\n",
        "\n",
        "for line in f:\n",
        "    values = line.split()\n",
        "    word = values[0]\n",
        "    emb = np.array(values[1:], dtype ='float')\n",
        "    embedding_index[word] = emb\n",
        "    "
      ],
      "execution_count": null,
      "outputs": []
    },
    {
      "cell_type": "code",
      "metadata": {
        "id": "W4Cs8lxpc2Kd",
        "colab": {
          "base_uri": "https://localhost:8080/"
        },
        "outputId": "3faba1fc-10e6-4b4e-a007-3ecd85be64fb"
      },
      "source": [
        "print(embedding_index['apple'])"
      ],
      "execution_count": null,
      "outputs": [
        {
          "output_type": "stream",
          "text": [
            "[ 0.52042  -0.8314    0.49961   1.2893    0.1151    0.057521 -1.3753\n",
            " -0.97313   0.18346   0.47672  -0.15112   0.35532   0.25912  -0.77857\n",
            "  0.52181   0.47695  -1.4251    0.858     0.59821  -1.0903    0.33574\n",
            " -0.60891   0.41742   0.21569  -0.07417  -0.5822   -0.4502    0.17253\n",
            "  0.16448  -0.38413   2.3283   -0.66682  -0.58181   0.74389   0.095015\n",
            " -0.47865  -0.84591   0.38704   0.23693  -1.5523    0.64802  -0.16521\n",
            " -1.4719   -0.16224   0.79857   0.97391   0.40027  -0.21912  -0.30938\n",
            "  0.26581 ]\n"
          ],
          "name": "stdout"
        }
      ]
    },
    {
      "cell_type": "markdown",
      "metadata": {
        "id": "1BT6RIQOc9na"
      },
      "source": [
        "> You can clearly see that each word is represented as a vector of 50 numerical values\n"
      ]
    },
    {
      "cell_type": "markdown",
      "metadata": {
        "id": "YcOeJROhdJi1"
      },
      "source": [
        "### Now we will define a function *get_embedding_output*  \n",
        "\n",
        "> It will take a text dataframe as an input and then convert each word into a vector of 50 elements.\n",
        "\n",
        "> As we have removed a lot of words such as stop words we will be use a maximum of 12 words per tweet.\n",
        "\n"
      ]
    },
    {
      "cell_type": "code",
      "metadata": {
        "id": "0kPEKjZ5dFpN"
      },
      "source": [
        "def get_embedding_output(X):\n",
        "    maxLen = 12\n",
        "    embedding_output = np.zeros((len(X), maxLen, 50))\n",
        "\n",
        "    for ix in range(X.shape[0]):\n",
        "        my_example = X[ix].split()\n",
        "       \n",
        "        for ij in range(len(my_example)):\n",
        "            if (embedding_index.get(my_example[ij].lower()) is not None) and (ij < maxLen):\n",
        "                embedding_output[ix][ij] = embedding_index[my_example[ij].lower()]\n",
        "\n",
        "    return embedding_output\n"
      ],
      "execution_count": null,
      "outputs": []
    },
    {
      "cell_type": "code",
      "metadata": {
        "id": "1U9qzW3reF05"
      },
      "source": [
        "x_train = refined_df['text'].values\n",
        "y_train = refined_df['emoji_label'].values\n",
        "x_train_embed = get_embedding_output(x_train)"
      ],
      "execution_count": null,
      "outputs": []
    },
    {
      "cell_type": "code",
      "metadata": {
        "id": "j0LKhJBNedua",
        "colab": {
          "base_uri": "https://localhost:8080/"
        },
        "outputId": "d32317f6-1cb4-4158-a022-cb6ab23abe8f"
      },
      "source": [
        "print(x_train_embed[0])"
      ],
      "execution_count": null,
      "outputs": [
        {
          "output_type": "stream",
          "text": [
            "[[ 1.2875    1.2586   -0.71297  -0.15497  -0.61965  -0.80052  -2.0029\n",
            "   0.41959  -0.075328 -0.21366  -0.84603  -0.082605  0.99821   0.11348\n",
            "   1.6989    0.65965  -0.32471  -0.24805  -0.047889  0.081395  0.48102\n",
            "   0.51665  -0.5788    0.74126   0.31082  -0.67281  -0.25039   0.22736\n",
            "   1.1558    0.54096   1.5812    0.91512  -0.88902   0.52964   0.534\n",
            "   0.1331   -0.51461   0.36751  -0.14438  -0.43314  -0.52991   0.48018\n",
            "   0.49344   0.46789  -0.46684  -0.39633   0.1686   -0.23279   0.2212\n",
            "   0.72042 ]\n",
            " [ 0.18103  -0.40867   0.43368  -0.30662   0.23923  -0.088941 -0.18667\n",
            "   1.0391   -0.071017  1.0576   -0.39      0.051926 -0.47777   0.054245\n",
            "   0.56796  -0.76576   0.90016  -0.29673  -0.14303  -0.37184  -0.25412\n",
            "   0.044725  0.24972  -0.58401   0.66839  -0.46125   0.40017   0.12867\n",
            "   0.57054  -0.3514    1.3048    1.059     0.39403  -0.10169  -0.48836\n",
            "   0.7662   -0.11982   1.27      0.33597  -0.69918   0.16059   0.038067\n",
            "  -0.070814  0.15741  -0.58301   0.272    -0.49875   0.29675   0.15272\n",
            "  -0.18731 ]\n",
            " [ 1.2905    0.40233  -0.37805   0.74917  -0.58172  -1.0446   -0.98862\n",
            "   0.38759   0.25985  -0.50311   0.23243   0.49763   0.75212  -0.86457\n",
            "  -0.67829   0.14632  -0.12788   0.70994  -1.2826    0.34561   0.86046\n",
            "  -0.066264 -0.90563   0.34611  -0.11264  -1.672     1.4062    0.61534\n",
            "   0.6683   -0.14574   2.3288   -0.046436 -0.23412  -0.037541  1.1395\n",
            "   0.29628  -0.11504  -0.27498  -0.054976  1.093     0.55523   0.85871\n",
            "   0.96032  -1.0063   -0.79771   0.5941   -0.37022  -0.21733   0.80247\n",
            "  -0.68911 ]\n",
            " [ 0.        0.        0.        0.        0.        0.        0.\n",
            "   0.        0.        0.        0.        0.        0.        0.\n",
            "   0.        0.        0.        0.        0.        0.        0.\n",
            "   0.        0.        0.        0.        0.        0.        0.\n",
            "   0.        0.        0.        0.        0.        0.        0.\n",
            "   0.        0.        0.        0.        0.        0.        0.\n",
            "   0.        0.        0.        0.        0.        0.        0.\n",
            "   0.      ]\n",
            " [ 0.        0.        0.        0.        0.        0.        0.\n",
            "   0.        0.        0.        0.        0.        0.        0.\n",
            "   0.        0.        0.        0.        0.        0.        0.\n",
            "   0.        0.        0.        0.        0.        0.        0.\n",
            "   0.        0.        0.        0.        0.        0.        0.\n",
            "   0.        0.        0.        0.        0.        0.        0.\n",
            "   0.        0.        0.        0.        0.        0.        0.\n",
            "   0.      ]\n",
            " [ 0.        0.        0.        0.        0.        0.        0.\n",
            "   0.        0.        0.        0.        0.        0.        0.\n",
            "   0.        0.        0.        0.        0.        0.        0.\n",
            "   0.        0.        0.        0.        0.        0.        0.\n",
            "   0.        0.        0.        0.        0.        0.        0.\n",
            "   0.        0.        0.        0.        0.        0.        0.\n",
            "   0.        0.        0.        0.        0.        0.        0.\n",
            "   0.      ]\n",
            " [ 0.        0.        0.        0.        0.        0.        0.\n",
            "   0.        0.        0.        0.        0.        0.        0.\n",
            "   0.        0.        0.        0.        0.        0.        0.\n",
            "   0.        0.        0.        0.        0.        0.        0.\n",
            "   0.        0.        0.        0.        0.        0.        0.\n",
            "   0.        0.        0.        0.        0.        0.        0.\n",
            "   0.        0.        0.        0.        0.        0.        0.\n",
            "   0.      ]\n",
            " [ 0.        0.        0.        0.        0.        0.        0.\n",
            "   0.        0.        0.        0.        0.        0.        0.\n",
            "   0.        0.        0.        0.        0.        0.        0.\n",
            "   0.        0.        0.        0.        0.        0.        0.\n",
            "   0.        0.        0.        0.        0.        0.        0.\n",
            "   0.        0.        0.        0.        0.        0.        0.\n",
            "   0.        0.        0.        0.        0.        0.        0.\n",
            "   0.      ]\n",
            " [ 0.        0.        0.        0.        0.        0.        0.\n",
            "   0.        0.        0.        0.        0.        0.        0.\n",
            "   0.        0.        0.        0.        0.        0.        0.\n",
            "   0.        0.        0.        0.        0.        0.        0.\n",
            "   0.        0.        0.        0.        0.        0.        0.\n",
            "   0.        0.        0.        0.        0.        0.        0.\n",
            "   0.        0.        0.        0.        0.        0.        0.\n",
            "   0.      ]\n",
            " [ 0.        0.        0.        0.        0.        0.        0.\n",
            "   0.        0.        0.        0.        0.        0.        0.\n",
            "   0.        0.        0.        0.        0.        0.        0.\n",
            "   0.        0.        0.        0.        0.        0.        0.\n",
            "   0.        0.        0.        0.        0.        0.        0.\n",
            "   0.        0.        0.        0.        0.        0.        0.\n",
            "   0.        0.        0.        0.        0.        0.        0.\n",
            "   0.      ]\n",
            " [ 0.        0.        0.        0.        0.        0.        0.\n",
            "   0.        0.        0.        0.        0.        0.        0.\n",
            "   0.        0.        0.        0.        0.        0.        0.\n",
            "   0.        0.        0.        0.        0.        0.        0.\n",
            "   0.        0.        0.        0.        0.        0.        0.\n",
            "   0.        0.        0.        0.        0.        0.        0.\n",
            "   0.        0.        0.        0.        0.        0.        0.\n",
            "   0.      ]\n",
            " [ 0.        0.        0.        0.        0.        0.        0.\n",
            "   0.        0.        0.        0.        0.        0.        0.\n",
            "   0.        0.        0.        0.        0.        0.        0.\n",
            "   0.        0.        0.        0.        0.        0.        0.\n",
            "   0.        0.        0.        0.        0.        0.        0.\n",
            "   0.        0.        0.        0.        0.        0.        0.\n",
            "   0.        0.        0.        0.        0.        0.        0.\n",
            "   0.      ]]\n"
          ],
          "name": "stdout"
        }
      ]
    },
    {
      "cell_type": "markdown",
      "metadata": {
        "id": "IiWYh0H1emzT"
      },
      "source": [
        "> Now each tweet will be an numpy array of 12 x 50"
      ]
    },
    {
      "cell_type": "markdown",
      "metadata": {
        "id": "IOXORK4tfOeJ"
      },
      "source": [
        "### Converting emoji_label to One Hot Vector"
      ]
    },
    {
      "cell_type": "code",
      "metadata": {
        "id": "IiZpjW31fW0R"
      },
      "source": [
        "from keras.utils import to_categorical\n",
        "\n",
        "y_train_ohv = to_categorical(y_train)"
      ],
      "execution_count": null,
      "outputs": []
    },
    {
      "cell_type": "code",
      "metadata": {
        "id": "LpJhJw56flB2",
        "colab": {
          "base_uri": "https://localhost:8080/"
        },
        "outputId": "727c2f00-b1f8-45e7-f38c-29687eb6e5bd"
      },
      "source": [
        "print(y_train[8])\n",
        "print(y_train_ohv[8])"
      ],
      "execution_count": null,
      "outputs": [
        {
          "output_type": "stream",
          "text": [
            "2\n",
            "[0. 0. 1. 0. 0. 0. 0. 0. 0. 0. 0. 0. 0. 0. 0. 0. 0. 0. 0. 0.]\n"
          ],
          "name": "stdout"
        }
      ]
    },
    {
      "cell_type": "markdown",
      "metadata": {
        "id": "Oq1XOdelezcO"
      },
      "source": [
        "## Oversampling using SMOTE\n"
      ]
    },
    {
      "cell_type": "code",
      "metadata": {
        "id": "Oozii4_2gHSJ",
        "colab": {
          "base_uri": "https://localhost:8080/"
        },
        "outputId": "0349c9a8-749c-437a-b1c1-b11d78210453"
      },
      "source": [
        "x_train_embed.shape"
      ],
      "execution_count": null,
      "outputs": [
        {
          "output_type": "execute_result",
          "data": {
            "text/plain": [
              "(69880, 12, 50)"
            ]
          },
          "metadata": {
            "tags": []
          },
          "execution_count": 18
        }
      ]
    },
    {
      "cell_type": "code",
      "metadata": {
        "id": "4yvw4ai9e4mC"
      },
      "source": [
        "from imblearn.over_sampling import SMOTE\n",
        "\n",
        "x_train_embed = x_train_embed.reshape(-1, 600)\n",
        "\n",
        "oversample = SMOTE()\n",
        "x, y = oversample.fit_resample(x_train_embed, y_train)"
      ],
      "execution_count": null,
      "outputs": []
    },
    {
      "cell_type": "code",
      "metadata": {
        "id": "E8kSn1Z3htIy",
        "colab": {
          "base_uri": "https://localhost:8080/"
        },
        "outputId": "36fb3d3b-b1d0-4d4e-d457-252fa5364f20"
      },
      "source": [
        "print(x.shape)\n",
        "\n",
        "print(y.shape)"
      ],
      "execution_count": null,
      "outputs": [
        {
          "output_type": "stream",
          "text": [
            "(300940, 600)\n",
            "(300940,)\n"
          ],
          "name": "stdout"
        }
      ]
    },
    {
      "cell_type": "markdown",
      "metadata": {
        "id": "7YYFZ2SKiQav"
      },
      "source": [
        "> Now we will visualize and see if our data is properly sampled or not"
      ]
    },
    {
      "cell_type": "code",
      "metadata": {
        "id": "k2zLJQFWi2g8",
        "colab": {
          "base_uri": "https://localhost:8080/",
          "height": 348
        },
        "outputId": "851689de-2aad-4cee-86ef-70ffd6968201"
      },
      "source": [
        "(emojis, counts) = np.unique(y, return_counts=True)\n",
        "\n",
        "print(emojis)\n",
        "print(counts)\n",
        "\n",
        "plt.style.use('dark_background')\n",
        "sns.barplot(x = emojis, y = counts)\n",
        "plt.xlabel(xlabel='Emoji Labels')\n",
        "plt.ylabel(ylabel='Emoji Count')\n",
        "plt.title('Frequency of Each Emoji Data')\n",
        "plt.show()"
      ],
      "execution_count": null,
      "outputs": [
        {
          "output_type": "stream",
          "text": [
            "[ 0  1  2  3  4  5  6  7  8  9 10 11 12 13 14 15 16 17 18 19]\n",
            "[15047 15047 15047 15047 15047 15047 15047 15047 15047 15047 15047 15047\n",
            " 15047 15047 15047 15047 15047 15047 15047 15047]\n"
          ],
          "name": "stdout"
        },
        {
          "output_type": "display_data",
          "data": {
            "image/png": "[encoded data removed]",
            "text/plain": [
              "<Figure size 432x288 with 1 Axes>"
            ]
          },
          "metadata": {
            "tags": []
          }
        }
      ]
    },
    {
      "cell_type": "markdown",
      "metadata": {
        "id": "YOa-TwiDjVL_"
      },
      "source": [
        "> Now our data is properly sampled. We will reshape our data such that it gets reverted to its original values"
      ]
    },
    {
      "cell_type": "code",
      "metadata": {
        "id": "kEZUDErMjkBg",
        "colab": {
          "base_uri": "https://localhost:8080/"
        },
        "outputId": "0adbcf69-9278-499f-be9d-61c0564b9052"
      },
      "source": [
        "x = x.reshape((-1,12,50))\n",
        "\n",
        "x.shape"
      ],
      "execution_count": null,
      "outputs": [
        {
          "output_type": "execute_result",
          "data": {
            "text/plain": [
              "(300940, 12, 50)"
            ]
          },
          "metadata": {
            "tags": []
          },
          "execution_count": 22
        }
      ]
    },
    {
      "cell_type": "code",
      "metadata": {
        "id": "ZelQw8o4j4LV",
        "colab": {
          "base_uri": "https://localhost:8080/"
        },
        "outputId": "35ad4782-2a05-458e-b88c-35d119ca9456"
      },
      "source": [
        "y = to_categorical(y)\n",
        "\n",
        "print(y[1])"
      ],
      "execution_count": null,
      "outputs": [
        {
          "output_type": "stream",
          "text": [
            "[0. 1. 0. 0. 0. 0. 0. 0. 0. 0. 0. 0. 0. 0. 0. 0. 0. 0. 0. 0.]\n"
          ],
          "name": "stdout"
        }
      ]
    },
    {
      "cell_type": "markdown",
      "metadata": {
        "id": "l1-IQBVTkFyD"
      },
      "source": [
        "> Now our data is properly configured to be fed to a neural Network"
      ]
    },
    {
      "cell_type": "markdown",
      "metadata": {
        "id": "r7hTIOLVkkni"
      },
      "source": [
        "# Building Model using Keras\n",
        "\n",
        "* We initialized a Sequential Model\n",
        "* Added with Bidirection LSTM with 512 cells and 256 cells\n",
        "* Added Dropouts to avoid overfitting.\n",
        "* Added few dense layers to tune our model.\n"
      ]
    },
    {
      "cell_type": "markdown",
      "metadata": {
        "id": "RvI-LKRTJOp5"
      },
      "source": [
        "> You can also observe that we have used *relu* for activation"
      ]
    },
    {
      "cell_type": "code",
      "metadata": {
        "id": "9HC-GKdE7nI7",
        "colab": {
          "base_uri": "https://localhost:8080/"
        },
        "outputId": "440ede45-54c0-4685-f9cb-db933229412e"
      },
      "source": [
        "from keras.models import Sequential\n",
        "from keras.layers import LSTM, Dense, Dropout, Bidirectional\n",
        "\n",
        "model = Sequential()\n",
        "model.add(Bidirectional(\n",
        "    LSTM(units = 512, return_sequences=True), input_shape = (12,50)))\n",
        "model.add(Dropout(0.3))\n",
        "model.add(Bidirectional(LSTM(units=256)))\n",
        "model.add(Dropout(0.3))\n",
        "model.add(Dense(units=128, activation='relu'))\n",
        "model.add(Dense(units=64, activation='relu'))\n",
        "model.add(Dense(units=32, activation='relu'))\n",
        "model.add(Dense(units=20, activation='softmax'))\n",
        "model.summary()"
      ],
      "execution_count": null,
      "outputs": [
        {
          "output_type": "stream",
          "text": [
            "Model: \"sequential\"\n",
            "_________________________________________________________________\n",
            "Layer (type)                 Output Shape              Param #   \n",
            "=================================================================\n",
            "bidirectional (Bidirectional (None, 12, 1024)          2306048   \n",
            "_________________________________________________________________\n",
            "dropout (Dropout)            (None, 12, 1024)          0         \n",
            "_________________________________________________________________\n",
            "bidirectional_1 (Bidirection (None, 512)               2623488   \n",
            "_________________________________________________________________\n",
            "dropout_1 (Dropout)          (None, 512)               0         \n",
            "_________________________________________________________________\n",
            "dense (Dense)                (None, 128)               65664     \n",
            "_________________________________________________________________\n",
            "dense_1 (Dense)              (None, 64)                8256      \n",
            "_________________________________________________________________\n",
            "dense_2 (Dense)              (None, 32)                2080      \n",
            "_________________________________________________________________\n",
            "dense_3 (Dense)              (None, 20)                660       \n",
            "=================================================================\n",
            "Total params: 5,006,196\n",
            "Trainable params: 5,006,196\n",
            "Non-trainable params: 0\n",
            "_________________________________________________________________\n"
          ],
          "name": "stdout"
        }
      ]
    },
    {
      "cell_type": "markdown",
      "metadata": {
        "id": "bLuxwmKpJ5L8"
      },
      "source": [
        "## We are going to compile and train our model\n",
        "\n",
        "* Doing a test-train split\n",
        "* Compiling our model\n",
        "* Defining Callbacks\n",
        "* Fitting our model"
      ]
    },
    {
      "cell_type": "code",
      "metadata": {
        "id": "iip0mwceKsYJ"
      },
      "source": [
        "from sklearn.model_selection import train_test_split\n",
        "\n",
        "x1, x2, y1, y2 = train_test_split(x, y, test_size=0.1, random_state=42)\n",
        "\n",
        "model.compile(optimizer='adam', loss='categorical_crossentropy', metrics =['accuracy'])"
      ],
      "execution_count": null,
      "outputs": []
    },
    {
      "cell_type": "markdown",
      "metadata": {
        "id": "zKVZesOZMvX3"
      },
      "source": [
        "### Defining callbacks"
      ]
    },
    {
      "cell_type": "code",
      "metadata": {
        "id": "Xg0kbbPVNMCG"
      },
      "source": [
        "from keras.callbacks import EarlyStopping\n",
        "\n",
        "early_stopping = EarlyStopping(monitor='val_accuracy', restore_best_weights=True, patience=3)"
      ],
      "execution_count": null,
      "outputs": []
    },
    {
      "cell_type": "markdown",
      "metadata": {
        "id": "ErVQa7MMOzlD"
      },
      "source": [
        "### Training our model with tha data and callbacks\n"
      ]
    },
    {
      "cell_type": "code",
      "metadata": {
        "id": "uUM04fmnPBO2",
        "colab": {
          "base_uri": "https://localhost:8080/"
        },
        "outputId": "3a3ffb4f-cea3-4b3a-b8c0-29575e3be41e"
      },
      "source": [
        "hist = model.fit(x1, y1, batch_size=64, epochs=40, callbacks=[early_stopping], shuffle=True, validation_split=0.1)"
      ],
      "execution_count": null,
      "outputs": [
        {
          "output_type": "stream",
          "text": [
            "Epoch 1/40\n",
            "3809/3809 [==============================] - 55s 14ms/step - loss: 2.5759 - accuracy: 0.2170 - val_loss: 2.3023 - val_accuracy: 0.3037\n",
            "Epoch 2/40\n",
            "3809/3809 [==============================] - 54s 14ms/step - loss: 1.9247 - accuracy: 0.4203 - val_loss: 1.5401 - val_accuracy: 0.5375\n",
            "Epoch 3/40\n",
            "3809/3809 [==============================] - 54s 14ms/step - loss: 1.2735 - accuracy: 0.6134 - val_loss: 1.0884 - val_accuracy: 0.6694\n",
            "Epoch 4/40\n",
            "3809/3809 [==============================] - 53s 14ms/step - loss: 0.9096 - accuracy: 0.7204 - val_loss: 0.8658 - val_accuracy: 0.7416\n",
            "Epoch 5/40\n",
            "3809/3809 [==============================] - 53s 14ms/step - loss: 0.7087 - accuracy: 0.7782 - val_loss: 0.7593 - val_accuracy: 0.7741\n",
            "Epoch 6/40\n",
            "3809/3809 [==============================] - 53s 14ms/step - loss: 0.5900 - accuracy: 0.8138 - val_loss: 0.6904 - val_accuracy: 0.7956\n",
            "Epoch 7/40\n",
            "3809/3809 [==============================] - 53s 14ms/step - loss: 0.5101 - accuracy: 0.8390 - val_loss: 0.6584 - val_accuracy: 0.8087\n",
            "Epoch 8/40\n",
            "3809/3809 [==============================] - 54s 14ms/step - loss: 0.4553 - accuracy: 0.8553 - val_loss: 0.6403 - val_accuracy: 0.8161\n",
            "Epoch 9/40\n",
            "3809/3809 [==============================] - 53s 14ms/step - loss: 0.4132 - accuracy: 0.8677 - val_loss: 0.6146 - val_accuracy: 0.8247\n",
            "Epoch 10/40\n",
            "3809/3809 [==============================] - 54s 14ms/step - loss: 0.3774 - accuracy: 0.8793 - val_loss: 0.6158 - val_accuracy: 0.8296\n",
            "Epoch 11/40\n",
            "3809/3809 [==============================] - 53s 14ms/step - loss: 0.3547 - accuracy: 0.8866 - val_loss: 0.6392 - val_accuracy: 0.8275\n",
            "Epoch 12/40\n",
            "3809/3809 [==============================] - 53s 14ms/step - loss: 0.3337 - accuracy: 0.8945 - val_loss: 0.6220 - val_accuracy: 0.8315\n",
            "Epoch 13/40\n",
            "3809/3809 [==============================] - 53s 14ms/step - loss: 0.3162 - accuracy: 0.8988 - val_loss: 0.6013 - val_accuracy: 0.8393\n",
            "Epoch 14/40\n",
            "3809/3809 [==============================] - 53s 14ms/step - loss: 0.3013 - accuracy: 0.9040 - val_loss: 0.6180 - val_accuracy: 0.8387\n",
            "Epoch 15/40\n",
            "3809/3809 [==============================] - 53s 14ms/step - loss: 0.2862 - accuracy: 0.9084 - val_loss: 0.6312 - val_accuracy: 0.8348\n",
            "Epoch 16/40\n",
            "3809/3809 [==============================] - 53s 14ms/step - loss: 0.2748 - accuracy: 0.9127 - val_loss: 0.5976 - val_accuracy: 0.8418\n",
            "Epoch 17/40\n",
            "3809/3809 [==============================] - 53s 14ms/step - loss: 0.2675 - accuracy: 0.9153 - val_loss: 0.6048 - val_accuracy: 0.8437\n",
            "Epoch 18/40\n",
            "3809/3809 [==============================] - 53s 14ms/step - loss: 0.2584 - accuracy: 0.9181 - val_loss: 0.6138 - val_accuracy: 0.8413\n",
            "Epoch 19/40\n",
            "3809/3809 [==============================] - 53s 14ms/step - loss: 0.2502 - accuracy: 0.9208 - val_loss: 0.6095 - val_accuracy: 0.8429\n",
            "Epoch 20/40\n",
            "3809/3809 [==============================] - 53s 14ms/step - loss: 0.2431 - accuracy: 0.9230 - val_loss: 0.6356 - val_accuracy: 0.8402\n"
          ],
          "name": "stdout"
        }
      ]
    },
    {
      "cell_type": "markdown",
      "metadata": {
        "id": "KsgJctoTQJ3b"
      },
      "source": [
        "### Analysing our training with graphs"
      ]
    },
    {
      "cell_type": "code",
      "metadata": {
        "id": "GxMpmK_7S62J",
        "colab": {
          "base_uri": "https://localhost:8080/",
          "height": 573
        },
        "outputId": "c307bada-2f46-4207-8db8-619c9a9dca5b"
      },
      "source": [
        "acc = hist.history['accuracy']\n",
        "loss = hist.history['loss']\n",
        "\n",
        "val_acc = hist.history['val_accuracy']\n",
        "val_loss = hist.history['val_loss']\n",
        "\n",
        "epochs = range(1, len(loss) + 1)\n",
        "\n",
        "plt.title('Loss Graph')\n",
        "plt.xlabel('Epoch')\n",
        "plt.ylabel('Loss')\n",
        "plt.plot(epochs, loss, label='Training Loss')\n",
        "plt.plot(epochs, val_loss, label='Validation Loss')\n",
        "plt.legend()\n",
        "plt.show()\n",
        "\n",
        "plt.title('Accuracy Graph')\n",
        "plt.xlabel('Epoch')\n",
        "plt.ylabel('Accuracy')\n",
        "plt.plot(epochs, acc, label='Training Accuracy')\n",
        "plt.plot(epochs, val_acc, label='Validation Accuracy')\n",
        "plt.legend()\n",
        "plt.show()"
      ],
      "execution_count": null,
      "outputs": [
        {
          "output_type": "display_data",
          "data": {
            "image/png": "[encoded data removed]",
            "text/plain": [
              "<Figure size 432x288 with 1 Axes>"
            ]
          },
          "metadata": {
            "tags": []
          }
        },
        {
          "output_type": "display_data",
          "data": {
            "image/png": "[encoded data removed]",
            "text/plain": [
              "<Figure size 432x288 with 1 Axes>"
            ]
          },
          "metadata": {
            "tags": []
          }
        }
      ]
    },
    {
      "cell_type": "markdown",
      "metadata": {
        "id": "EQmg51JUWxuU"
      },
      "source": [
        "# Testing our Model"
      ]
    },
    {
      "cell_type": "code",
      "metadata": {
        "id": "6WlgP0G9W4Go",
        "colab": {
          "base_uri": "https://localhost:8080/"
        },
        "outputId": "409ea8d7-a596-495b-a31a-330ac07784bd"
      },
      "source": [
        "model.evaluate(x2, y2, batch_size=64)"
      ],
      "execution_count": null,
      "outputs": [
        {
          "output_type": "stream",
          "text": [
            "471/471 [==============================] - 3s 6ms/step - loss: 0.6162 - accuracy: 0.8436\n"
          ],
          "name": "stdout"
        },
        {
          "output_type": "execute_result",
          "data": {
            "text/plain": [
              "[0.6162001490592957, 0.8435568809509277]"
            ]
          },
          "metadata": {
            "tags": []
          },
          "execution_count": 29
        }
      ]
    },
    {
      "cell_type": "markdown",
      "metadata": {
        "id": "N_0LJMcWCfzj"
      },
      "source": [
        "> That's the end of it. We have acheived 84.36% of test accuracy. YAY!!!"
      ]
    },
    {
      "cell_type": "code",
      "metadata": {
        "id": "vydYBJMsy2Ic"
      },
      "source": [
        "prediction = np.argmax(model.predict(x2, batch_size=64), axis=-1)\n",
        "y2 = np.array([np.where(r==1)[0][0] for r in y2])"
      ],
      "execution_count": null,
      "outputs": []
    },
    {
      "cell_type": "markdown",
      "metadata": {
        "id": "YrQSq3566lii"
      },
      "source": [
        "### Confusion Matrix"
      ]
    },
    {
      "cell_type": "code",
      "metadata": {
        "colab": {
          "base_uri": "https://localhost:8080/",
          "height": 295
        },
        "id": "ZWRvQPzT1ya-",
        "outputId": "55ae6bea-0898-4662-ca03-9c009f9bea7d"
      },
      "source": [
        "from sklearn.metrics import roc_auc_score, confusion_matrix\n",
        "\n",
        "confusion = confusion_matrix(prediction, y2)\n",
        "sns.heatmap(confusion)\n",
        "plt.xlabel('Prediction')\n",
        "plt.ylabel('Test Data')\n",
        "plt.title('LSTM Neural Network')\n",
        "plt.show()\n"
      ],
      "execution_count": null,
      "outputs": [
        {
          "output_type": "display_data",
          "data": {
            "image/png": "[encoded data removed]",
            "text/plain": [
              "<Figure size 432x288 with 2 Axes>"
            ]
          },
          "metadata": {
            "tags": []
          }
        }
      ]
    },
    {
      "cell_type": "markdown",
      "metadata": {
        "id": "XClP6Y2t6p7S"
      },
      "source": [
        "### AUC Score"
      ]
    },
    {
      "cell_type": "code",
      "metadata": {
        "colab": {
          "base_uri": "https://localhost:8080/"
        },
        "id": "FVnthEOg4-Zo",
        "outputId": "e94238a6-c302-43bf-e662-fa14367be0f5"
      },
      "source": [
        "prediction = model.predict(x2, batch_size=64)\n",
        "y2 = to_categorical(y2)\n",
        "roc_auc_score(y2, prediction, multi_class='ovo')"
      ],
      "execution_count": null,
      "outputs": [
        {
          "output_type": "execute_result",
          "data": {
            "text/plain": [
              "0.9850319646654544"
            ]
          },
          "metadata": {
            "tags": []
          },
          "execution_count": 65
        }
      ]
    },
    {
      "cell_type": "markdown",
      "metadata": {
        "id": "HzGH1yTb6uQ1"
      },
      "source": [
        "> Yippee!! An AUC score of 0.9850319646654544 is acheived"
      ]
    },
    {
      "cell_type": "markdown",
      "metadata": {
        "id": "gBKojeC1CzpD"
      },
      "source": [
        "## Making Predictions"
      ]
    },
    {
      "cell_type": "markdown",
      "metadata": {
        "id": "CmztM-h9DO8L"
      },
      "source": [
        "> Reading the mapping file"
      ]
    },
    {
      "cell_type": "code",
      "metadata": {
        "id": "0TWNm0HcDOWO"
      },
      "source": [
        "mapping = pd.read_csv('/content/drive/MyDrive/Colab Notebooks/data/Mapping.csv')\n",
        "mapping = mapping.drop('Unnamed: 0', axis=1)\n",
        "\n",
        "emoji_map = dict()\n",
        "\n",
        "for i in range(20):\n",
        "    emoji_map[i] = mapping['emoticons'][i]"
      ],
      "execution_count": null,
      "outputs": []
    },
    {
      "cell_type": "markdown",
      "metadata": {
        "id": "51zJEoIRO798"
      },
      "source": [
        "> Getting Embedding Output for a list of strings so that we can make predictions"
      ]
    },
    {
      "cell_type": "code",
      "metadata": {
        "id": "3-7m4MdqF0CM"
      },
      "source": [
        "def get_predict_embedding_output(X):\n",
        "    maxLen = 12\n",
        "    embedding_output = np.zeros((len(X), maxLen, 50))\n",
        "\n",
        "    for ix in range(len(X)):\n",
        "        my_example = X[ix].split()\n",
        "        print(my_example)\n",
        "       \n",
        "        for ij in range(len(my_example)):\n",
        "            if (embedding_index.get(my_example[ij].lower()) is not None) and (ij < maxLen):\n",
        "                embedding_output[ix][ij] = embedding_index[my_example[ij].lower()]\n",
        "\n",
        "    return embedding_output"
      ],
      "execution_count": null,
      "outputs": []
    },
    {
      "cell_type": "markdown",
      "metadata": {
        "id": "1qwcvWVmPgfo"
      },
      "source": [
        "> Testing our function on some data"
      ]
    },
    {
      "cell_type": "code",
      "metadata": {
        "id": "MudxPqaaEVXr",
        "colab": {
          "base_uri": "https://localhost:8080/"
        },
        "outputId": "8b9966ba-2437-4d4b-8b97-d9cd0affe325"
      },
      "source": [
        "Z = ['I love you', 'I am really surprised', 'It\\'s hilarious']\n",
        "\n",
        "X = list()\n",
        "\n",
        "for iz in range(len(Z)):\n",
        "    z = Z[iz]\n",
        "    z = z.lower()\n",
        "    z = re.findall('[a-z]+', z)\n",
        "    z = [word for word in z if word not in sw]\n",
        "    z = ' '.join(z)\n",
        "    X.append(z)\n",
        "\n",
        "X = get_predict_embedding_output(X)\n",
        "\n",
        "result = model.predict(X)\n",
        "\n",
        "for ix in range(len(X)):\n",
        "    print(emoji_map[np.argmax(result[ix])])"
      ],
      "execution_count": null,
      "outputs": [
        {
          "output_type": "stream",
          "text": [
            "['love']\n",
            "['really', 'surprised']\n",
            "['hilarious']\n",
            "😘\n",
            "🔥\n",
            "😂\n"
          ],
          "name": "stdout"
        }
      ]
    },
    {
      "cell_type": "markdown",
      "metadata": {
        "id": "M7Hnfhi6RHYs"
      },
      "source": [
        "> Here You can see some real emoticons as outputs."
      ]
    },
    {
      "cell_type": "markdown",
      "metadata": {
        "id": "utDBiNLoRO65"
      },
      "source": [
        "## Making some realtime Predictions\n",
        "\n",
        "> Let the Magic Begin :p"
      ]
    },
    {
      "cell_type": "code",
      "metadata": {
        "id": "LnqOIoJEH9qf"
      },
      "source": [
        "def predict(text):\n",
        "    ot = text\n",
        "    \n",
        "    text = text.lower()\n",
        "    text = re.findall('[a-z]+', text)\n",
        "    text = [word for word in text if word not in sw]\n",
        "    \n",
        "    embedding_output = np.zeros((1, 12, 50))\n",
        "        \n",
        "    for ij in range(len(text)):\n",
        "        if (embedding_index.get(text[ij]) is not None) and (ij < 12):\n",
        "            embedding_output[0][ij] = embedding_index[text[ij]]\n",
        "\n",
        "    res = np.argmax(model.predict(embedding_output))\n",
        "\n",
        "    return ot + ' ' + emoji_map[res]\n"
      ],
      "execution_count": null,
      "outputs": []
    },
    {
      "cell_type": "markdown",
      "metadata": {
        "id": "i-cWWwaMRoGs"
      },
      "source": [
        "> Well this predict function takes in a string and then it attaches an emoji to the end."
      ]
    },
    {
      "cell_type": "code",
      "metadata": {
        "id": "fRqJzA5DL6Ym",
        "colab": {
          "base_uri": "https://localhost:8080/"
        },
        "outputId": "8e99c866-676c-4698-cf66-f6be375eea58"
      },
      "source": [
        "print(predict('it was funny lol'))\n",
        "\n",
        "print(predict('I love you'))\n",
        "\n",
        "print(predict('Congrats on your big success'))"
      ],
      "execution_count": null,
      "outputs": [
        {
          "output_type": "stream",
          "text": [
            "it was funny lol 😂\n",
            "I love you 😘\n",
            "Congrats on your big success ❤\n"
          ],
          "name": "stdout"
        }
      ]
    },
    {
      "cell_type": "markdown",
      "metadata": {
        "id": "_wd6PtjEL5n9"
      },
      "source": [
        "> Now you have seen our complete code in action. "
      ]
    },
    {
      "cell_type": "markdown",
      "metadata": {
        "id": "zzmRD8sLR8V1"
      },
      "source": [
        "---\n",
        "# The End\n",
        "\n",
        "\n",
        "---\n",
        "    Project By:\n",
        "    Rohit, Ritwik Ranjan and Saarthak Jain\n",
        "---\n",
        "\n",
        "    \n",
        "\n",
        "\n",
        "\n",
        "\n",
        "\n",
        "\n",
        "\n"
      ]
    }
  ]
}