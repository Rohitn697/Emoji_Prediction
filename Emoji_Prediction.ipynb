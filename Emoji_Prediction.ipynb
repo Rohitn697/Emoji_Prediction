{
  "nbformat": 4,
  "nbformat_minor": 0,
  "metadata": {
    "colab": {
      "name": "Emoji_Prediction.ipynb",
      "provenance": [],
      "toc_visible": true
    },
    "kernelspec": {
      "name": "python3",
      "display_name": "Python 3"
    },
    "language_info": {
      "name": "python"
    }
  },
  "cells": [
    {
      "cell_type": "markdown",
      "metadata": {
        "id": "7tqCgJt7zKT_"
      },
      "source": [
        "# Importing all the Libraries"
      ]
    },
    {
      "cell_type": "code",
      "metadata": {
        "id": "onSNZl3Nw5Qf"
      },
      "source": [
        "import re\n",
        "from nltk.corpus import stopwords\n",
        "from nltk.stem.porter import PorterStemmer\n",
        "import pandas as pd"
      ],
      "execution_count": 80,
      "outputs": []
    },
    {
      "cell_type": "markdown",
      "metadata": {
        "id": "UAlPSu7jzSmL"
      },
      "source": [
        "# Importing data using Pandas"
      ]
    },
    {
      "cell_type": "code",
      "metadata": {
        "colab": {
          "base_uri": "https://localhost:8080/"
        },
        "id": "Iamc0lvKxVJD",
        "outputId": "7e334f9a-e6d5-4f62-9834-bd53034473d1"
      },
      "source": [
        "# Reading Data from CSV and removing unwanted index Column\n",
        "import nltk\n",
        "nltk.download('stopwords')\n",
        "df = pd.read_csv('/content/drive/MyDrive/Emoji Data/Train.csv')\n",
        "df = df.drop(columns=['Unnamed: 0'], )\n",
        "corpus = list()\n",
        "ps = PorterStemmer()\n",
        "sw = set(stopwords.words('english'))\n",
        "nsw = {'no', 'not', 'what', 'when', 'where', 'how', 'whom', 'which'}"
      ],
      "execution_count": 81,
      "outputs": [
        {
          "output_type": "stream",
          "text": [
            "[nltk_data] Downloading package stopwords to /root/nltk_data...\n",
            "[nltk_data]   Package stopwords is already up-to-date!\n"
          ],
          "name": "stdout"
        }
      ]
    },
    {
      "cell_type": "code",
      "metadata": {
        "colab": {
          "base_uri": "https://localhost:8080/",
          "height": 203
        },
        "id": "ZYNruBz0x6QV",
        "outputId": "fdf6ed3e-5540-4209-fd48-055711212c2a"
      },
      "source": [
        "df.head()"
      ],
      "execution_count": 82,
      "outputs": [
        {
          "output_type": "execute_result",
          "data": {
            "text/html": [
              "<div>\n",
              "<style scoped>\n",
              "    .dataframe tbody tr th:only-of-type {\n",
              "        vertical-align: middle;\n",
              "    }\n",
              "\n",
              "    .dataframe tbody tr th {\n",
              "        vertical-align: top;\n",
              "    }\n",
              "\n",
              "    .dataframe thead th {\n",
              "        text-align: right;\n",
              "    }\n",
              "</style>\n",
              "<table border=\"1\" class=\"dataframe\">\n",
              "  <thead>\n",
              "    <tr style=\"text-align: right;\">\n",
              "      <th></th>\n",
              "      <th>TEXT</th>\n",
              "      <th>Label</th>\n",
              "    </tr>\n",
              "  </thead>\n",
              "  <tbody>\n",
              "    <tr>\n",
              "      <th>0</th>\n",
              "      <td>Vacation wasted ! #vacation2017 #photobomb #ti...</td>\n",
              "      <td>0</td>\n",
              "    </tr>\n",
              "    <tr>\n",
              "      <th>1</th>\n",
              "      <td>Oh Wynwood, you’re so funny! : @user #Wynwood ...</td>\n",
              "      <td>1</td>\n",
              "    </tr>\n",
              "    <tr>\n",
              "      <th>2</th>\n",
              "      <td>Been friends since 7th grade. Look at us now w...</td>\n",
              "      <td>2</td>\n",
              "    </tr>\n",
              "    <tr>\n",
              "      <th>3</th>\n",
              "      <td>This is what it looks like when someone loves ...</td>\n",
              "      <td>3</td>\n",
              "    </tr>\n",
              "    <tr>\n",
              "      <th>4</th>\n",
              "      <td>RT @user this white family was invited to a Bl...</td>\n",
              "      <td>3</td>\n",
              "    </tr>\n",
              "  </tbody>\n",
              "</table>\n",
              "</div>"
            ],
            "text/plain": [
              "                                                TEXT  Label\n",
              "0  Vacation wasted ! #vacation2017 #photobomb #ti...      0\n",
              "1  Oh Wynwood, you’re so funny! : @user #Wynwood ...      1\n",
              "2  Been friends since 7th grade. Look at us now w...      2\n",
              "3  This is what it looks like when someone loves ...      3\n",
              "4  RT @user this white family was invited to a Bl...      3"
            ]
          },
          "metadata": {
            "tags": []
          },
          "execution_count": 82
        }
      ]
    },
    {
      "cell_type": "markdown",
      "metadata": {
        "id": "yqL7FJnMzZc1"
      },
      "source": [
        "# Pre-Processing using NLTK and re\n",
        "- Stopword removal using NLTK\n",
        "- Tokenisation using re\n",
        "- Removing words starting with #"
      ]
    },
    {
      "cell_type": "code",
      "metadata": {
        "id": "luDY4sn7z5ty"
      },
      "source": [
        "for i in range(70000):\n",
        "    text = df['TEXT'][i]\n",
        "    text = text.lower()\n",
        "    text = re.findall('[a-z#]+', text)\n",
        "    text = [word for word in text if word[0] != '#' and word not in sw]\n",
        "    text = ' '.join(text)\n",
        "    corpus.append(text)"
      ],
      "execution_count": 83,
      "outputs": []
    },
    {
      "cell_type": "code",
      "metadata": {
        "colab": {
          "base_uri": "https://localhost:8080/"
        },
        "id": "psxSoo620Ova",
        "outputId": "dde3db3d-5d0f-42d9-bfbb-8672decba2bc"
      },
      "source": [
        "corpus[:10]"
      ],
      "execution_count": 84,
      "outputs": [
        {
          "output_type": "execute_result",
          "data": {
            "text/plain": [
              "['vacation wasted port',\n",
              " 'oh wynwood funny user wynwood',\n",
              " 'friends since th grade look us following dreams love',\n",
              " 'looks like someone loves unconditionally oh puppy brother',\n",
              " 'rt user white family invited black barbecue never laughed hard life',\n",
              " 'track season ready ya university incarnate word',\n",
              " 'merry christmas filthy little animals wearing user ugly sweater featuring santa',\n",
              " 'westenders user weston toronto',\n",
              " 'maxwell heads home summa akron city hospital',\n",
              " 'story saturday collins ave miami beach fl ladies contact join']"
            ]
          },
          "metadata": {
            "tags": []
          },
          "execution_count": 84
        }
      ]
    },
    {
      "cell_type": "markdown",
      "metadata": {
        "id": "gPTRTGTx0gJh"
      },
      "source": [
        "# Making a dataframe using the pandas library"
      ]
    },
    {
      "cell_type": "code",
      "metadata": {
        "id": "2aHCVlp-0kXM"
      },
      "source": [
        "refined_df = pd.DataFrame(corpus)\n",
        "refined_df = refined_df.join(df['Label'])\n",
        "refined_df.columns = ['text', 'emoji_label']\n",
        "refined_df = refined_df[refined_df['text'].map(len) > 0]"
      ],
      "execution_count": 85,
      "outputs": []
    },
    {
      "cell_type": "code",
      "metadata": {
        "colab": {
          "base_uri": "https://localhost:8080/",
          "height": 203
        },
        "id": "HqSGEpjB0zlu",
        "outputId": "72b93a23-6650-42df-b96a-e5a629124ead"
      },
      "source": [
        "refined_df.head()"
      ],
      "execution_count": 86,
      "outputs": [
        {
          "output_type": "execute_result",
          "data": {
            "text/html": [
              "<div>\n",
              "<style scoped>\n",
              "    .dataframe tbody tr th:only-of-type {\n",
              "        vertical-align: middle;\n",
              "    }\n",
              "\n",
              "    .dataframe tbody tr th {\n",
              "        vertical-align: top;\n",
              "    }\n",
              "\n",
              "    .dataframe thead th {\n",
              "        text-align: right;\n",
              "    }\n",
              "</style>\n",
              "<table border=\"1\" class=\"dataframe\">\n",
              "  <thead>\n",
              "    <tr style=\"text-align: right;\">\n",
              "      <th></th>\n",
              "      <th>text</th>\n",
              "      <th>emoji_label</th>\n",
              "    </tr>\n",
              "  </thead>\n",
              "  <tbody>\n",
              "    <tr>\n",
              "      <th>0</th>\n",
              "      <td>vacation wasted port</td>\n",
              "      <td>0</td>\n",
              "    </tr>\n",
              "    <tr>\n",
              "      <th>1</th>\n",
              "      <td>oh wynwood funny user wynwood</td>\n",
              "      <td>1</td>\n",
              "    </tr>\n",
              "    <tr>\n",
              "      <th>2</th>\n",
              "      <td>friends since th grade look us following dream...</td>\n",
              "      <td>2</td>\n",
              "    </tr>\n",
              "    <tr>\n",
              "      <th>3</th>\n",
              "      <td>looks like someone loves unconditionally oh pu...</td>\n",
              "      <td>3</td>\n",
              "    </tr>\n",
              "    <tr>\n",
              "      <th>4</th>\n",
              "      <td>rt user white family invited black barbecue ne...</td>\n",
              "      <td>3</td>\n",
              "    </tr>\n",
              "  </tbody>\n",
              "</table>\n",
              "</div>"
            ],
            "text/plain": [
              "                                                text  emoji_label\n",
              "0                               vacation wasted port            0\n",
              "1                      oh wynwood funny user wynwood            1\n",
              "2  friends since th grade look us following dream...            2\n",
              "3  looks like someone loves unconditionally oh pu...            3\n",
              "4  rt user white family invited black barbecue ne...            3"
            ]
          },
          "metadata": {
            "tags": []
          },
          "execution_count": 86
        }
      ]
    },
    {
      "cell_type": "markdown",
      "metadata": {
        "id": "tyq6u-Tq06Au"
      },
      "source": [
        "# Exploratory Data Analysis using matplotlib and seaborn\n",
        "- using numpy to make a frequency table for every emoji\n",
        "- making a bar plot using seaborn"
      ]
    },
    {
      "cell_type": "code",
      "metadata": {
        "id": "Yx5IIafU1D-E"
      },
      "source": [
        "import numpy as np\n",
        "import matplotlib.pyplot as plt\n",
        "import numpy as np\n",
        "import seaborn as sns\n",
        "\n",
        "label_array = np.array(refined_df['emoji_label'])\n",
        "(emojis, counts) = np.unique(label_array, return_counts=True)"
      ],
      "execution_count": 87,
      "outputs": []
    },
    {
      "cell_type": "code",
      "metadata": {
        "colab": {
          "base_uri": "https://localhost:8080/"
        },
        "id": "dM8vm8SC1Uxq",
        "outputId": "9fb2f5f5-b721-449e-fa94-dc0a44420fc3"
      },
      "source": [
        "print(emojis)\n",
        "print(counts)"
      ],
      "execution_count": 88,
      "outputs": [
        {
          "output_type": "stream",
          "text": [
            "[ 0  1  2  3  4  5  6  7  8  9 10 11 12 13 14 15 16 17 18 19]\n",
            "[ 1556  2592  7071  6836  1876  1975  2083  4361  1992 15060  1721  2429\n",
            "  1907  3248  2340  3843  2826  2751  1721  1742]\n"
          ],
          "name": "stdout"
        }
      ]
    },
    {
      "cell_type": "code",
      "metadata": {
        "colab": {
          "base_uri": "https://localhost:8080/",
          "height": 295
        },
        "id": "xIj_25sf1gB7",
        "outputId": "cd35b7bb-f70c-428b-bcde-e511b4c8f21d"
      },
      "source": [
        "plt.style.use('dark_background')\n",
        "sns.barplot(x = emojis, y = counts)\n",
        "plt.xlabel(xlabel='Emoji Labels')\n",
        "plt.ylabel(ylabel='Emoji Count')\n",
        "plt.title('Frequency of Each Emoji Data')\n",
        "plt.show()"
      ],
      "execution_count": 89,
      "outputs": [
        {
          "output_type": "display_data",
          "data": {
            "image/png": "[encoded data removed]",
            "text/plain": [
              "<Figure size 432x288 with 1 Axes>"
            ]
          },
          "metadata": {
            "tags": []
          }
        }
      ]
    },
    {
      "cell_type": "markdown",
      "metadata": {
        "id": "6JW5nFC61xn-"
      },
      "source": [
        "# Applying Vectorization"
      ]
    },
    {
      "cell_type": "code",
      "metadata": {
        "id": "QELIh7QS15z1"
      },
      "source": [
        "import pandas as pd\n",
        "from sklearn.feature_extraction.text import CountVectorizer, TfidfVectorizer\n",
        "from sklearn.model_selection import train_test_split\n",
        "from sklearn import metrics\n",
        "from sklearn.naive_bayes import MultinomialNB"
      ],
      "execution_count": 90,
      "outputs": []
    },
    {
      "cell_type": "code",
      "metadata": {
        "colab": {
          "base_uri": "https://localhost:8080/",
          "height": 35
        },
        "id": "pdpQLRFB1-Lm",
        "outputId": "ce80cbcd-ce2b-41ef-f75e-0c59c97c38f2"
      },
      "source": [
        "cv_uni = CountVectorizer(dtype=np.int8)\n",
        "corpus = refined_df['text']\n",
        "corpus[1]"
      ],
      "execution_count": 91,
      "outputs": [
        {
          "output_type": "execute_result",
          "data": {
            "application/vnd.google.colaboratory.intrinsic+json": {
              "type": "string"
            },
            "text/plain": [
              "'oh wynwood funny user wynwood'"
            ]
          },
          "metadata": {
            "tags": []
          },
          "execution_count": 91
        }
      ]
    },
    {
      "cell_type": "code",
      "metadata": {
        "id": "9SiXErYz2IIJ"
      },
      "source": [
        "X_Train, X_Test, Y_train, Y_test = train_test_split(corpus, refined_df['emoji_label'], test_size=0.2, random_state=0)"
      ],
      "execution_count": 92,
      "outputs": []
    },
    {
      "cell_type": "code",
      "metadata": {
        "id": "i1RNJ9zX7iFQ"
      },
      "source": [
        "X_train = cv_uni.fit_transform(X_Train)\n",
        "X_test = cv_uni.transform(X_Test)\n"
      ],
      "execution_count": 93,
      "outputs": []
    },
    {
      "cell_type": "markdown",
      "metadata": {
        "id": "RyBdIOI224GK"
      },
      "source": [
        "# Multinomial Naive Bayes"
      ]
    },
    {
      "cell_type": "code",
      "metadata": {
        "colab": {
          "base_uri": "https://localhost:8080/",
          "height": 378
        },
        "id": "8UArdk0r26_I",
        "outputId": "e7a9c7d0-f0f4-4246-e1e4-98e023f1679a"
      },
      "source": [
        "MNB = MultinomialNB()\n",
        "MNB.fit(X_train, Y_train)\n",
        "predict = MNB.predict(X_test)\n",
        "confusion_matrix = metrics.confusion_matrix(predict, Y_test)\n",
        "sns.heatmap(confusion_matrix)\n",
        "plt.title('Confusion Matrix of Emoji Prediction\\n using Multinomial Naive Bayes')\n",
        "plt.xlabel('PREDICTED')\n",
        "plt.ylabel('TEST DATA')\n",
        "plt.show()\n",
        "print(metrics.accuracy_score(predict, Y_test))\n",
        "print(metrics.f1_score(predict, Y_test, average='macro'))\n",
        "print(metrics.f1_score(predict, Y_test, average='micro'))\n",
        "print(metrics.f1_score(predict, Y_test, average='weighted'))"
      ],
      "execution_count": 94,
      "outputs": [
        {
          "output_type": "display_data",
          "data": {
            "image/png": "[encoded data removed]",
            "text/plain": [
              "<Figure size 432x288 with 2 Axes>"
            ]
          },
          "metadata": {
            "tags": []
          }
        },
        {
          "output_type": "stream",
          "text": [
            "0.28414128414128415\n",
            "0.1228223671343629\n",
            "0.28414128414128415\n",
            "0.3688483978401286\n"
          ],
          "name": "stdout"
        }
      ]
    },
    {
      "cell_type": "code",
      "metadata": {
        "colab": {
          "base_uri": "https://localhost:8080/"
        },
        "id": "Xali04Ng3Ayy",
        "outputId": "e3d2d09b-bd1e-4b64-d415-528406593ce7"
      },
      "source": [
        "from sklearn.metrics import classification_report\n",
        "print(classification_report(Y_test,predict))"
      ],
      "execution_count": 95,
      "outputs": [
        {
          "output_type": "stream",
          "text": [
            "              precision    recall  f1-score   support\n",
            "\n",
            "           0       0.00      0.00      0.00       324\n",
            "           1       0.33      0.03      0.05       544\n",
            "           2       0.23      0.13      0.17      1426\n",
            "           3       0.35      0.41      0.38      1365\n",
            "           4       0.20      0.00      0.01       393\n",
            "           5       0.73      0.28      0.41       369\n",
            "           6       0.30      0.01      0.01       426\n",
            "           7       0.48      0.31      0.38       908\n",
            "           8       1.00      0.00      0.01       393\n",
            "           9       0.25      0.87      0.39      3010\n",
            "          10       0.00      0.00      0.00       325\n",
            "          11       0.68      0.18      0.29       471\n",
            "          12       0.41      0.10      0.16       384\n",
            "          13       0.37      0.06      0.11       630\n",
            "          14       0.36      0.01      0.02       449\n",
            "          15       0.19      0.01      0.02       725\n",
            "          16       0.26      0.02      0.03       555\n",
            "          17       0.09      0.00      0.00       571\n",
            "          18       0.00      0.00      0.00       338\n",
            "          19       0.60      0.01      0.02       380\n",
            "\n",
            "    accuracy                           0.28     13986\n",
            "   macro avg       0.34      0.12      0.12     13986\n",
            "weighted avg       0.32      0.28      0.20     13986\n",
            "\n"
          ],
          "name": "stdout"
        },
        {
          "output_type": "stream",
          "text": [
            "/usr/local/lib/python3.7/dist-packages/sklearn/metrics/_classification.py:1272: UndefinedMetricWarning: Precision and F-score are ill-defined and being set to 0.0 in labels with no predicted samples. Use `zero_division` parameter to control this behavior.\n",
            "  _warn_prf(average, modifier, msg_start, len(result))\n"
          ],
          "name": "stderr"
        }
      ]
    },
    {
      "cell_type": "markdown",
      "metadata": {
        "id": "S9gFFmIm366V"
      },
      "source": [
        "# Multinomial Naive Bayes with hyperparameter (alpha)"
      ]
    },
    {
      "cell_type": "code",
      "metadata": {
        "colab": {
          "base_uri": "https://localhost:8080/"
        },
        "id": "vZtiR0b63-LV",
        "outputId": "c7af1ac3-c11e-4054-d824-2e020dd6a0c7"
      },
      "source": [
        "classifier = MultinomialNB(alpha=0.1)\n",
        "previous_score = 0\n",
        "for alpha in np.arange(0,1,0.1):\n",
        "  sub_classifier = MultinomialNB(alpha=alpha)\n",
        "  sub_classifier.fit(X_train,Y_train)\n",
        "  y_pred = sub_classifier.predict(X_test)\n",
        "  score = metrics.accuracy_score(Y_test,y_pred)\n",
        "  if score>previous_score:\n",
        "        classifier=sub_classifier\n",
        "  print(\"Alpha: {}, Score : {}\".format(alpha,score))"
      ],
      "execution_count": 96,
      "outputs": [
        {
          "output_type": "stream",
          "text": [
            "Alpha: 0.0, Score : 0.22937222937222937\n"
          ],
          "name": "stdout"
        },
        {
          "output_type": "stream",
          "text": [
            "/usr/local/lib/python3.7/dist-packages/sklearn/naive_bayes.py:507: UserWarning: alpha too small will result in numeric errors, setting alpha = 1.0e-10\n",
            "  'setting alpha = %.1e' % _ALPHA_MIN)\n"
          ],
          "name": "stderr"
        },
        {
          "output_type": "stream",
          "text": [
            "Alpha: 0.1, Score : 0.27112827112827115\n",
            "Alpha: 0.2, Score : 0.2850707850707851\n",
            "Alpha: 0.30000000000000004, Score : 0.28943228943228944\n",
            "Alpha: 0.4, Score : 0.29121979121979125\n",
            "Alpha: 0.5, Score : 0.29000429000429\n",
            "Alpha: 0.6000000000000001, Score : 0.2902187902187902\n",
            "Alpha: 0.7000000000000001, Score : 0.2887887887887888\n",
            "Alpha: 0.8, Score : 0.2874302874302874\n",
            "Alpha: 0.9, Score : 0.2862862862862863\n"
          ],
          "name": "stdout"
        }
      ]
    },
    {
      "cell_type": "code",
      "metadata": {
        "colab": {
          "base_uri": "https://localhost:8080/"
        },
        "id": "dQ2rbUwO4pDK",
        "outputId": "f5e8b47a-569a-4f57-dc70-c1178431ce66"
      },
      "source": [
        "print(classification_report(Y_test,y_pred))"
      ],
      "execution_count": 97,
      "outputs": [
        {
          "output_type": "stream",
          "text": [
            "              precision    recall  f1-score   support\n",
            "\n",
            "           0       0.00      0.00      0.00       324\n",
            "           1       0.34      0.04      0.07       544\n",
            "           2       0.22      0.14      0.17      1426\n",
            "           3       0.35      0.42      0.38      1365\n",
            "           4       0.20      0.00      0.01       393\n",
            "           5       0.73      0.30      0.42       369\n",
            "           6       0.31      0.01      0.02       426\n",
            "           7       0.47      0.33      0.39       908\n",
            "           8       0.50      0.01      0.01       393\n",
            "           9       0.26      0.86      0.40      3010\n",
            "          10       0.00      0.00      0.00       325\n",
            "          11       0.68      0.20      0.30       471\n",
            "          12       0.42      0.12      0.18       384\n",
            "          13       0.32      0.06      0.11       630\n",
            "          14       0.31      0.01      0.02       449\n",
            "          15       0.19      0.02      0.03       725\n",
            "          16       0.26      0.02      0.04       555\n",
            "          17       0.08      0.00      0.00       571\n",
            "          18       0.50      0.00      0.01       338\n",
            "          19       0.50      0.01      0.02       380\n",
            "\n",
            "    accuracy                           0.29     13986\n",
            "   macro avg       0.33      0.13      0.13     13986\n",
            "weighted avg       0.31      0.29      0.20     13986\n",
            "\n"
          ],
          "name": "stdout"
        }
      ]
    },
    {
      "cell_type": "markdown",
      "metadata": {
        "id": "M8JS57RhHyeX"
      },
      "source": [
        "# Making Predictions"
      ]
    },
    {
      "cell_type": "code",
      "metadata": {
        "colab": {
          "base_uri": "https://localhost:8080/"
        },
        "id": "5jIcP6IyGnCI",
        "outputId": "2fd39646-83d5-4f0b-9e73-321ebee47328"
      },
      "source": [
        "mapping = pd.read_csv('/content/drive/MyDrive/Emoji Data/Mapping.csv')\n",
        "mapping = mapping.drop('Unnamed: 0', axis=1)\n",
        "\n",
        "emoji_map = dict()\n",
        "\n",
        "for i in range(20):\n",
        "    emoji_map[i] = mapping['emoticons'][i]\n",
        "    "
      ],
      "execution_count": 105,
      "outputs": [
        {
          "output_type": "stream",
          "text": [
            "😜\n",
            "📸\n",
            "😍\n",
            "😂\n",
            "😉\n",
            "🎄\n",
            "📷\n",
            "🔥\n",
            "😘\n",
            "❤\n",
            "😁\n",
            "🇺🇸\n",
            "☀\n",
            "✨\n",
            "💙\n",
            "💕\n",
            "😎\n",
            "😊\n",
            "💜\n",
            "💯\n"
          ],
          "name": "stdout"
        }
      ]
    },
    {
      "cell_type": "code",
      "metadata": {
        "id": "zeUJVFDAGBSH"
      },
      "source": [
        "def emoji_det(text):\n",
        "    input_data = [text]\n",
        "    vectorized_input_data = cv_uni.transform(input_data)\n",
        "    prediction = classifier.predict(vectorized_input_data)\n",
        "    print(text+emoji_map[prediction[0]])\n"
      ],
      "execution_count": 113,
      "outputs": []
    },
    {
      "cell_type": "code",
      "metadata": {
        "colab": {
          "base_uri": "https://localhost:8080/"
        },
        "id": "OZQoATZ-GNGg",
        "outputId": "68dfb755-e6d5-47ef-ef68-8e03cfd7ff90"
      },
      "source": [
        "emoji_det(\"it was funny lol\")"
      ],
      "execution_count": 114,
      "outputs": [
        {
          "output_type": "stream",
          "text": [
            "it was funny lol😂\n"
          ],
          "name": "stdout"
        }
      ]
    },
    {
      "cell_type": "code",
      "metadata": {
        "colab": {
          "base_uri": "https://localhost:8080/"
        },
        "id": "K1Br06foGQ0V",
        "outputId": "97ccd6ab-7e77-44f2-8d53-e49dbb736265"
      },
      "source": [
        "emoji_det('I love you')"
      ],
      "execution_count": 115,
      "outputs": [
        {
          "output_type": "stream",
          "text": [
            "I love you❤\n"
          ],
          "name": "stdout"
        }
      ]
    }
  ]
}